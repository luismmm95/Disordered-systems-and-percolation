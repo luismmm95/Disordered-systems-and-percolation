{
 "cells": [
  {
   "cell_type": "markdown",
   "metadata": {},
   "source": [
    "# Project 2 solutions: Advanced Molecular Dynamics Modeling"
   ]
  },
  {
   "cell_type": "markdown",
   "metadata": {},
   "source": [
    "### Generating a nano-porous material\n",
    "The goal of this project is to gain familiarity with working with a nano-porous material using molecular dynamics modeling. To study a nano-porous material we follow three steps: (1) We generate the nano-porous matrix; (2) We fill the matrix with the fluid we would like to study; and (3) We study the physical processes we are interested in. You may choose for yourself what type of material you would like to work with. We will first describe the general procedure to generate a nano-porous material based on the Lennard-Jones model, but you may extend this to more advanced materials by following the instructions listed for the various potentials below. We strongly advise you to first work with the Lennard-Jones potential before you decide to address any of the more advanced potentials.\n",
    "\n",
    "Often, when we prepare molecular dynamics systems, we follow a sequence of steps similar to what we would do if we were to prepare the system “experimentally”. Here, we will follow a semi-procedural approach to generate first the matrix and then the interior.\n",
    "\n",
    "Our plan to generate a porous material is to first generate a thermalized Lennard-Jones system, and then select a given part of the system to be the solid matrix. In the simplest version of our system, we will freeze all the atoms in the matrix - not allowing the atoms to move, but still including them in interactions with atoms moving in the system - generating a non-deformable matrix. We could do this based on a solid LJ crystal. However, this would generate a very regular structure. Instead, we will here start from a LJ liquid system and then select a given number of atoms to form the matrix. We can select the matrix in various ways: For example, we could for each atom randomly decide if the atom is part of the matrix or not, with some probability $p$ for the atom to be part of the matrix. As we will learn later, this will usually lead to a system with very small pores. We could increase the pore size by removing matrix regions that consist of connected clusters of atoms smaller than a certain minimum size. However, we will here pursue a different approach - we will generate a porous material by removing a set of possibly overlapping spheres with random position and radius - leaving everything outside of the spheres as the matrix. We will do this based on a thermalized liquid state of the Argon system."
   ]
  },
  {
   "cell_type": "markdown",
   "metadata": {},
   "source": [
    "a) Prepare a liquid Argon system of size $N_x = N_y = N_z = 20$ unit cells of size $b = 5.72Å$ and thermalize it at $T = 0.851$."
   ]
  },
  {
   "cell_type": "code",
   "execution_count": null,
   "metadata": {},
   "outputs": [],
   "source": [
    "## project 1 g)\n",
    "# 3d Lennard-Jones gas\n",
    "\n",
    "## creating loops with the desired temperature\n",
    "#label Temp_loop\n",
    "#variable t index 0.7 0.5 # over and under Argon liquid phase \n",
    "## saving log file as \n",
    "#log log1g_T$t\n",
    "#--------------------Initialization-------------------------\n",
    "units lj\n",
    "\n",
    "dimension 3\n",
    "boundary p p p\n",
    "atom_style atomic\n",
    "#-------------------Atom definition-------------------------\n",
    "lattice fcc 0.01\n",
    "region simbox block 0 20 0 20 0 20\n",
    "create_box 1 simbox\n",
    "create_atoms 1 box\n",
    "#-----------------------Settings----------------------------\n",
    "mass 1 1.0\n",
    "velocity all create 0.851 711\n",
    "pair_style lj/cut 3.0\n",
    "pair_coeff 1 1 1.0 1.0 3.0\n",
    "## compute the radial distribution function\n",
    "compute myRDF all rdf 2000 cutoff 5.0\n",
    "fix 1 all nve\n",
    "fix 1 all ave/time 100 1 100 c_myRDF[*] file tmp.rdf mode vector\n",
    "#------------------------Output-----------------------------\n",
    "#dump 1 all custom 10 dump.proj1f_T$t id type x y z vx vy vz\n",
    "thermo 10\n",
    "#------------------Run a simulation-------------------------\n",
    "run 50000\n",
    "\n",
    "#clear\n",
    "#next t # update variable\n",
    "#jump SELF Temp_loop # jump to the next loop"
   ]
  },
  {
   "cell_type": "markdown",
   "metadata": {},
   "source": [
    "b) Cut out a cylindrical pore of radius $R = 2nm$ at the center of the system. Mark all the atoms outside the pore as non-moving. Visualize the results to check that you are able to select a reasonable region."
   ]
  },
  {
   "cell_type": "code",
   "execution_count": null,
   "metadata": {},
   "outputs": [],
   "source": []
  },
  {
   "cell_type": "markdown",
   "metadata": {},
   "source": [
    "If we make a porous system from several, randomly placed spheres, we need to decide if we model the material inside the spheres or outside the spheres. Here, we will assume that the matrix is inside the spheres and the pores are outside the sphere — just as we would imagine for a matrix made from spheres.\n",
    "\n",
    "c) Generate a matrix consisting of $20$ pores at random positions and with a random radius uniformly distributed between $R_0 = 2nm$ and $R_1 = 3nm$. What is the porosity of the system? (Porosity, $\\phi$, is the relative amount of pore space in the volume). Discuss how to measure the porosity and how it compares with what you would expect theoretically from selecting $20$ non-overlapping pores of the same size."
   ]
  },
  {
   "cell_type": "code",
   "execution_count": null,
   "metadata": {},
   "outputs": [],
   "source": []
  },
  {
   "cell_type": "markdown",
   "metadata": {},
   "source": [
    "d) Fix all the particles in the matrix - so that they are not allowed to move - thermalize the system at $T = 1.05$ and visualize the trajectory of the system without a thermostat. Congratulations, you have now generated your first nano-porous system."
   ]
  },
  {
   "cell_type": "code",
   "execution_count": null,
   "metadata": {},
   "outputs": [],
   "source": []
  },
  {
   "cell_type": "markdown",
   "metadata": {},
   "source": [
    "e) Find a method to study a fluid with half the density. Thermalize the system at $T = 1.5$. Find $T (t)$ of the system. Calculate the pressure $P$, and visualize the spatial distribution of pressures in the system."
   ]
  },
  {
   "cell_type": "code",
   "execution_count": null,
   "metadata": {},
   "outputs": [],
   "source": []
  },
  {
   "cell_type": "markdown",
   "metadata": {},
   "source": [
    "### Diffusion in a nano-porous material.\n",
    "f) Measure $\\langle r^2(t) \\rangle$ for the low-density fluid in the nanoporous system."
   ]
  },
  {
   "cell_type": "code",
   "execution_count": null,
   "metadata": {},
   "outputs": [],
   "source": []
  },
  {
   "cell_type": "markdown",
   "metadata": {},
   "source": [
    "### Flow in a nano-porous material\n",
    "We can induce flow in the material by introducing an external force, $F = F_x \\beta$, acting on each atom - similar to gravity, but much larger in magnitude. In the case of flow in a gravitational field, Darcy’s law is usually formulated as:\n",
    "$$U = \\frac{k}{\\mu} ( \\nabla P - \\rho g ).$$\n",
    "g) Show that you can replace $\\rho g$ by $nF_x$, where $n$ is the number density of atoms on which $F_x$ acts."
   ]
  },
  {
   "cell_type": "code",
   "execution_count": null,
   "metadata": {},
   "outputs": [],
   "source": []
  },
  {
   "cell_type": "markdown",
   "metadata": {},
   "source": [
    "h) Measure the flow profile $u(r)$ of a fluid of your choice flowing through a cylindrical pore due to a force $F = 0.1\\epsilon /\\sigma$, and use this to estimate the fluid viscosity. Discuss how well the continuum solution fits to the measured profiles of density and velocity? (Notice that your measurements should be done in a stationary state, and that your model may use some time to reach a stationary state. Use your judgement here - we are interested in the main features, not a high-precision result)."
   ]
  },
  {
   "cell_type": "code",
   "execution_count": null,
   "metadata": {},
   "outputs": [],
   "source": []
  },
  {
   "cell_type": "markdown",
   "metadata": {},
   "source": [
    "i) Generate a set of materials with different porosities, $\\phi$ (or collaborate with your friends, so that each measure for one porosity). Measure the permeability $k$ as a function of porosity $\\phi$ of your material for $F = 0.1\\epsilon /\\phi$. Compare with theoretical estimates relevant for the type of porous material you have chosen."
   ]
  },
  {
   "cell_type": "code",
   "execution_count": null,
   "metadata": {},
   "outputs": [],
   "source": []
  }
 ],
 "metadata": {
  "kernelspec": {
   "display_name": "Python 3",
   "language": "python",
   "name": "python3"
  },
  "language_info": {
   "codemirror_mode": {
    "name": "ipython",
    "version": 3
   },
   "file_extension": ".py",
   "mimetype": "text/x-python",
   "name": "python",
   "nbconvert_exporter": "python",
   "pygments_lexer": "ipython3",
   "version": "3.6.8"
  }
 },
 "nbformat": 4,
 "nbformat_minor": 2
}
